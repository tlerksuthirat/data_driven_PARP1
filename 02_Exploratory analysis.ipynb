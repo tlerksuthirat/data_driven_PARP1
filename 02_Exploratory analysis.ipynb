{
 "cells": [
  {
   "cell_type": "code",
   "execution_count": null,
   "id": "362a7f86",
   "metadata": {},
   "outputs": [],
   "source": [
    "! conda install -c rdkit rdkit -y\n",
    "import sys\n",
    "sys.path.append('/usr/local/lib/python3.7/site-packages/')"
   ]
  },
  {
   "cell_type": "code",
   "execution_count": null,
   "id": "7678133c",
   "metadata": {},
   "outputs": [],
   "source": [
    "import pandas as pd\n",
    "import os"
   ]
  },
  {
   "cell_type": "code",
   "execution_count": null,
   "id": "db5d83e2",
   "metadata": {},
   "outputs": [],
   "source": [
    "df = pd.read_csv('PARP1_03_bioactivity_IC50_data_curated.csv')"
   ]
  },
  {
   "cell_type": "code",
   "execution_count": null,
   "id": "f05e1490",
   "metadata": {
    "scrolled": true
   },
   "outputs": [],
   "source": [
    "df"
   ]
  },
  {
   "cell_type": "code",
   "execution_count": null,
   "id": "4683e8da",
   "metadata": {},
   "outputs": [],
   "source": [
    "class_ac = df['class'].value_counts()\n",
    "class_ac.columns = ['class','count']\n",
    "class_table = pd.DataFrame(class_ac)\n",
    "class_table"
   ]
  },
  {
   "cell_type": "code",
   "execution_count": null,
   "id": "04f24a3f",
   "metadata": {},
   "outputs": [],
   "source": [
    "class_table.to_csv('PARP1_bioactivity_profile_IC50.csv')"
   ]
  },
  {
   "cell_type": "code",
   "execution_count": null,
   "id": "fca7a1af",
   "metadata": {},
   "outputs": [],
   "source": [
    "df_no_smiles = df.drop(columns='canonical_smiles')"
   ]
  },
  {
   "cell_type": "code",
   "execution_count": null,
   "id": "d0dd0fa6",
   "metadata": {},
   "outputs": [],
   "source": [
    "smiles = []\n",
    "\n",
    "for i in df.canonical_smiles.tolist():\n",
    "  cpd = str(i).split('.')\n",
    "  cpd_longest = max(cpd, key = len)\n",
    "  smiles.append(cpd_longest)\n",
    "\n",
    "smiles = pd.Series(smiles, name = 'canonical_smiles')"
   ]
  },
  {
   "cell_type": "code",
   "execution_count": null,
   "id": "f08e7901",
   "metadata": {},
   "outputs": [],
   "source": [
    "df_clean_smiles = pd.concat([df_no_smiles,smiles], axis=1)\n",
    "df_clean_smiles"
   ]
  },
  {
   "cell_type": "code",
   "execution_count": null,
   "id": "01ad64db",
   "metadata": {},
   "outputs": [],
   "source": [
    "import numpy as np\n",
    "from rdkit import Chem\n",
    "from rdkit.Chem import Descriptors, Lipinski"
   ]
  },
  {
   "cell_type": "code",
   "execution_count": null,
   "id": "87a39df7",
   "metadata": {},
   "outputs": [],
   "source": [
    "# Inspired by: https://codeocean.com/explore/capsules?query=tag:data-curation\n",
    "\n",
    "def lipinski(smiles, verbose=False):\n",
    "\n",
    "    moldata= []\n",
    "    for elem in smiles:\n",
    "        mol=Chem.MolFromSmiles(elem) \n",
    "        moldata.append(mol)\n",
    "       \n",
    "    baseData= np.arange(1,1)\n",
    "    i=0  \n",
    "    for mol in moldata:        \n",
    "       \n",
    "        desc_MolWt = Descriptors.MolWt(mol)\n",
    "        desc_MolLogP = Descriptors.MolLogP(mol)\n",
    "        desc_NumHDonors = Lipinski.NumHDonors(mol)\n",
    "        desc_NumHAcceptors = Lipinski.NumHAcceptors(mol)\n",
    "           \n",
    "        row = np.array([desc_MolWt,\n",
    "                        desc_MolLogP,\n",
    "                        desc_NumHDonors,\n",
    "                        desc_NumHAcceptors])   \n",
    "    \n",
    "        if(i==0):\n",
    "            baseData=row\n",
    "        else:\n",
    "            baseData=np.vstack([baseData, row])\n",
    "        i=i+1      \n",
    "    \n",
    "    columnNames=[\"MW\",\"LogP\",\"NumHDonors\",\"NumHAcceptors\"]   \n",
    "    descriptors = pd.DataFrame(data=baseData,columns=columnNames)\n",
    "    \n",
    "    return descriptors"
   ]
  },
  {
   "cell_type": "code",
   "execution_count": null,
   "id": "bdd33995",
   "metadata": {},
   "outputs": [],
   "source": [
    "df_lipinski = lipinski(df.canonical_smiles)\n",
    "df_lipinski"
   ]
  },
  {
   "cell_type": "code",
   "execution_count": null,
   "id": "0c2d9ec0",
   "metadata": {},
   "outputs": [],
   "source": [
    "df_combined = pd.concat([df,df_lipinski], axis=1)\n",
    "df_combined"
   ]
  },
  {
   "cell_type": "code",
   "execution_count": null,
   "id": "09ad40a8",
   "metadata": {},
   "outputs": [],
   "source": [
    "import numpy as np\n",
    "\n",
    "def pIC50(input):\n",
    "    pIC50 = []\n",
    "\n",
    "    for i in input['standard_value_norm']:\n",
    "        molar = i*(10**-9) # Converts nM to M\n",
    "        pIC50.append(-np.log10(molar))\n",
    "\n",
    "    input['pIC50'] = pIC50\n",
    "    x = input.drop('standard_value_norm', 1)\n",
    "        \n",
    "    return x"
   ]
  },
  {
   "cell_type": "code",
   "execution_count": null,
   "id": "68fd62e1",
   "metadata": {},
   "outputs": [],
   "source": [
    "df_combined.standard_value.describe()"
   ]
  },
  {
   "cell_type": "code",
   "execution_count": null,
   "id": "d11783eb",
   "metadata": {},
   "outputs": [],
   "source": [
    "-np.log10( (10**-9)* 100000000 )"
   ]
  },
  {
   "cell_type": "code",
   "execution_count": null,
   "id": "58ea7e16",
   "metadata": {},
   "outputs": [],
   "source": [
    "-np.log10( (10**-9)* 10000000000 )"
   ]
  },
  {
   "cell_type": "code",
   "execution_count": null,
   "id": "dc262a72",
   "metadata": {},
   "outputs": [],
   "source": [
    "def norm_value(input):\n",
    "    norm = []\n",
    "\n",
    "    for i in input['standard_value']:\n",
    "        if i > 100000000:\n",
    "          i = 100000000\n",
    "        norm.append(i)\n",
    "\n",
    "    input['standard_value_norm'] = norm\n",
    "    x = input.drop('standard_value', 1)\n",
    "        \n",
    "    return x"
   ]
  },
  {
   "cell_type": "code",
   "execution_count": null,
   "id": "2bc8c08a",
   "metadata": {},
   "outputs": [],
   "source": [
    "df_norm = norm_value(df_combined)\n",
    "df_norm"
   ]
  },
  {
   "cell_type": "code",
   "execution_count": null,
   "id": "b6d3dd6d",
   "metadata": {},
   "outputs": [],
   "source": [
    "df_norm.standard_value_norm.describe()"
   ]
  },
  {
   "cell_type": "code",
   "execution_count": null,
   "id": "1e7be7df",
   "metadata": {},
   "outputs": [],
   "source": [
    "df_final = pIC50(df_norm)\n",
    "df_final"
   ]
  },
  {
   "cell_type": "code",
   "execution_count": null,
   "id": "4d194904",
   "metadata": {},
   "outputs": [],
   "source": [
    "df_final = pIC50(df_norm)\n",
    "df_final"
   ]
  },
  {
   "cell_type": "code",
   "execution_count": null,
   "id": "6e5a31a7",
   "metadata": {},
   "outputs": [],
   "source": [
    "df_final.pIC50.describe()"
   ]
  },
  {
   "cell_type": "code",
   "execution_count": null,
   "id": "f60d4f6d",
   "metadata": {},
   "outputs": [],
   "source": [
    "df_final.to_csv('PARP1_04_bioactivity_data_3class_pIC50.csv')"
   ]
  },
  {
   "cell_type": "code",
   "execution_count": null,
   "id": "f9533009",
   "metadata": {},
   "outputs": [],
   "source": [
    "#Removing the 'intermediate' bioactivity class\n",
    "df_2class = df_final[df_final['class']  != 'intermediate']\n",
    "df_2class"
   ]
  },
  {
   "cell_type": "code",
   "execution_count": null,
   "id": "d67ae407",
   "metadata": {},
   "outputs": [],
   "source": [
    "df_2class.to_csv('PARP1_05_bioactivity_data_2class_pIC50.csv')"
   ]
  },
  {
   "cell_type": "code",
   "execution_count": null,
   "id": "d57b73fe",
   "metadata": {},
   "outputs": [],
   "source": [
    "#df_2class = pd.read_csv('PARP1_05_bioactivity_data_2class_pIC50.csv', index_col=0)"
   ]
  },
  {
   "cell_type": "code",
   "execution_count": null,
   "id": "03fe12ab",
   "metadata": {},
   "outputs": [],
   "source": [
    "#Statistical\n",
    "mean_MW = df_2class.groupby('class')[\"MW\"].mean()\n",
    "SD_MW = df_2class.groupby('class')[\"MW\"].std()\n",
    "mean_LogP = df_2class.groupby('class')[\"LogP\"].mean()\n",
    "SD_LogP = df_2class.groupby('class')[\"LogP\"].std()\n",
    "mean_NumHDonors = df_2class.groupby('class')[\"NumHDonors\"].mean()\n",
    "SD_NumHDonors = df_2class.groupby('class')[\"NumHDonors\"].std()\n",
    "mean_NumHAcceptors = df_2class.groupby('class')[\"NumHAcceptors\"].mean()\n",
    "SD_NumHAcceptors = df_2class.groupby('class')[\"NumHAcceptors\"].std()"
   ]
  },
  {
   "cell_type": "code",
   "execution_count": null,
   "id": "9a730edf",
   "metadata": {},
   "outputs": [],
   "source": [
    "total = [mean_MW,SD_MW,mean_LogP,SD_LogP,mean_NumHDonors,SD_NumHDonors,mean_NumHAcceptors,SD_NumHAcceptors]\n",
    "label=['meanMWac', 'meanMWin','SDMWac', 'SDMWin',\n",
    "     'meanLogPac', 'meanLogPin','SDLogPac','SDLogPin',\n",
    "     'meanNumHDonorsac','meanNumHDonorsin','SDNumHDonorsac','SDNumHDonorsin',\n",
    "    'meanNumHAcceptorsac', 'meanNumHAcceptorsin','SDNumHAcceptorsac','SDNumHAcceptorsin']"
   ]
  },
  {
   "cell_type": "code",
   "execution_count": null,
   "id": "01bdff35",
   "metadata": {},
   "outputs": [],
   "source": [
    "statistic_Ro5 = pd.concat(total, axis=0)\n",
    "Ro5 = pd.DataFrame(statistic_Ro5, columns=[\"stat\"])\n",
    "Ro5['label']= label\n",
    "Ro5"
   ]
  },
  {
   "cell_type": "code",
   "execution_count": null,
   "id": "4cb69c86",
   "metadata": {},
   "outputs": [],
   "source": [
    "Ro5.to_csv(\"Ro5_stat.csv\",index=False)"
   ]
  },
  {
   "cell_type": "code",
   "execution_count": null,
   "id": "1dc50542",
   "metadata": {},
   "outputs": [],
   "source": [
    "Ro5_statistic"
   ]
  },
  {
   "cell_type": "code",
   "execution_count": null,
   "id": "cc8eb263",
   "metadata": {},
   "outputs": [],
   "source": [
    "!pip install seaborn"
   ]
  },
  {
   "cell_type": "code",
   "execution_count": null,
   "id": "2a41826e",
   "metadata": {},
   "outputs": [],
   "source": [
    "import seaborn as sns\n",
    "sns.set(style='ticks')\n",
    "import matplotlib.pyplot as plt"
   ]
  },
  {
   "cell_type": "code",
   "execution_count": null,
   "id": "5862d6f8",
   "metadata": {},
   "outputs": [],
   "source": [
    "plt.figure(figsize=(7, 7))\n",
    "\n",
    "sns.countplot(x='class', data=df_2class, edgecolor='black')\n",
    "\n",
    "plt.xlabel('bioactivity class', fontsize=14, fontweight='bold')\n",
    "plt.ylabel('Frequency', fontsize=14, fontweight='bold')\n",
    "\n",
    "plt.savefig('plot_bioactivity_class.tiff', bbox_inches='tight', pad_inches=0.1)"
   ]
  },
  {
   "cell_type": "code",
   "execution_count": null,
   "id": "cc5c51d2",
   "metadata": {},
   "outputs": [],
   "source": [
    "plt.figure(figsize=(7, 7))\n",
    "\n",
    "sns.scatterplot(x='MW', y='LogP', data=df_2class, hue='class', size='pIC50', edgecolor='black', alpha=0.7)\n",
    "sns.set_style(\"whitegrid\", {\"ytick.major.size\": 100,\"xtick.major.size\": 2, 'grid.linestyle': 'solid'})\n",
    "\n",
    "plt.xlabel('MW', fontsize=14, fontweight='bold')\n",
    "plt.ylabel('LogP', fontsize=14, fontweight='bold')\n",
    "plt.legend(bbox_to_anchor=(1.05, 1), loc=2, borderaxespad=0)\n",
    "\n",
    "plt.savefig('plot_MW_vs_LogP.tiff', bbox_inches='tight', pad_inches=0.1)"
   ]
  },
  {
   "cell_type": "code",
   "execution_count": null,
   "id": "b3cc7d2c",
   "metadata": {},
   "outputs": [],
   "source": [
    "plt.figure(figsize=(5.5, 5.5))\n",
    "\n",
    "sns.boxplot(x = 'class', y = 'pIC50', data = df_2class, medianprops=dict(color=\"black\", alpha=1, linewidth=2))\n",
    "\n",
    "plt.xlabel('Bioactivity class', fontsize=14, fontweight='bold')\n",
    "plt.ylabel('pIC50 value', fontsize=14, fontweight='bold')\n",
    "\n",
    "plt.savefig('plot_IC50.tiff')"
   ]
  },
  {
   "cell_type": "markdown",
   "id": "c2502259",
   "metadata": {},
   "source": [
    "Statistical analysis | Mann-Whitney U Test"
   ]
  },
  {
   "cell_type": "code",
   "execution_count": null,
   "id": "4e7f154d",
   "metadata": {},
   "outputs": [],
   "source": [
    "def mannwhitney(descriptor, verbose=False):\n",
    "  # https://machinelearningmastery.com/nonparametric-statistical-significance-tests-in-python/\n",
    "  from numpy.random import seed\n",
    "  from numpy.random import randn\n",
    "  from scipy.stats import mannwhitneyu\n",
    "\n",
    "# seed the random number generator\n",
    "  seed(1)\n",
    "\n",
    "# actives and inactives\n",
    "  selection = [descriptor, 'class']\n",
    "  df = df_2class[selection]\n",
    "  active = df[df['class'] == 'active']\n",
    "  active = active[descriptor]\n",
    "\n",
    "  selection = [descriptor, 'class']\n",
    "  df = df_2class[selection]\n",
    "  inactive = df[df['class'] == 'inactive']\n",
    "  inactive = inactive[descriptor]\n",
    "\n",
    "# compare samples\n",
    "  stat, p = mannwhitneyu(active, inactive)\n",
    "\n",
    "# interpret\n",
    "  alpha = 0.05\n",
    "  if p > alpha:\n",
    "    interpretation = 'Same distribution (fail to reject H0)'\n",
    "  else:\n",
    "    interpretation = 'Different distribution (reject H0)'\n",
    "  \n",
    "  results = pd.DataFrame({'Descriptor':descriptor,\n",
    "                          'Statistics':stat,\n",
    "                          'p':p,\n",
    "                          'alpha':alpha,\n",
    "                          'Interpretation':interpretation}, index=[0])\n",
    "  filename = 'mannwhitneyu_' + descriptor + '.csv'\n",
    "  results.to_csv(filename)\n",
    "\n",
    "  return results"
   ]
  },
  {
   "cell_type": "code",
   "execution_count": null,
   "id": "3df42b18",
   "metadata": {},
   "outputs": [],
   "source": [
    "mannwhitney('pIC50')"
   ]
  },
  {
   "cell_type": "code",
   "execution_count": null,
   "id": "f126d660",
   "metadata": {},
   "outputs": [],
   "source": [
    "pip install statannotations"
   ]
  },
  {
   "cell_type": "code",
   "execution_count": null,
   "id": "6004d204",
   "metadata": {},
   "outputs": [],
   "source": [
    "pip install statsmodels"
   ]
  },
  {
   "cell_type": "code",
   "execution_count": null,
   "id": "00f23cb0",
   "metadata": {},
   "outputs": [],
   "source": [
    "from statannotations.Annotator import Annotator"
   ]
  },
  {
   "cell_type": "code",
   "execution_count": null,
   "id": "14b2ad69",
   "metadata": {},
   "outputs": [],
   "source": [
    "plt.figure(figsize=(5.5, 5.5))\n",
    "\n",
    "ax = sns.boxplot(x = 'class', y = 'MW', data = df_2class, showmeans = True, meanprops={\"marker\":\"o\",\"markerfacecolor\":\"white\", \n",
    "                       \"markeredgecolor\":\"black\",\"markersize\":\"8\"},\n",
    "                     medianprops=dict(color=\"black\", alpha=1, linewidth=3))\n",
    "ax.axhline(500, ls='--',c = 'black')\n",
    "ax.set(ylim=(100, 850))\n",
    "ax.set(xlabel=None)\n",
    "\n",
    "plt.ylabel('MW', fontsize=14, fontweight='bold')\n",
    "\n",
    "plt.savefig('plot_MW.tiff')"
   ]
  },
  {
   "cell_type": "code",
   "execution_count": null,
   "id": "1344d2fa",
   "metadata": {},
   "outputs": [],
   "source": [
    "mannwhitney('MW')"
   ]
  },
  {
   "cell_type": "markdown",
   "id": "7e5ea9d8",
   "metadata": {},
   "source": [
    "LogP"
   ]
  },
  {
   "cell_type": "code",
   "execution_count": null,
   "id": "588b4e62",
   "metadata": {},
   "outputs": [],
   "source": [
    "plt.figure(figsize=(5.5, 5.5))\n",
    "\n",
    "ax = sns.boxplot(x = 'class', y = 'LogP', data = df_2class, showmeans = True, meanprops={\"marker\":\"o\",\"markerfacecolor\":\"white\", \n",
    "                       \"markeredgecolor\":\"black\",\"markersize\":\"8\"},\n",
    "                     medianprops=dict(color=\"black\", alpha=1, linewidth=3))\n",
    "ax.axhline(5, ls='--',c = 'black')\n",
    "ax.set(ylim=(-6, 12))\n",
    "ax.set(xlabel=None)\n",
    "\n",
    "plt.ylabel('LogP', fontsize=14, fontweight='bold')\n",
    "\n",
    "plt.savefig('plot_LogP.tiff')"
   ]
  },
  {
   "cell_type": "code",
   "execution_count": null,
   "id": "6074bd6d",
   "metadata": {},
   "outputs": [],
   "source": [
    "mannwhitney('LogP')"
   ]
  },
  {
   "cell_type": "markdown",
   "id": "3e24cd1f",
   "metadata": {},
   "source": [
    "NumHDonor"
   ]
  },
  {
   "cell_type": "code",
   "execution_count": null,
   "id": "f6d50bc4",
   "metadata": {},
   "outputs": [],
   "source": [
    "plt.figure(figsize=(5.5, 5.5))\n",
    "\n",
    "ax = sns.boxplot(x = 'class', y = 'NumHDonors', data = df_2class, \n",
    "                 showmeans = True, meanprops={\"marker\":\"o\",\"markerfacecolor\":\"white\", \n",
    "                       \"markeredgecolor\":\"black\",\"markersize\":\"8\"},\n",
    "                     medianprops=dict(color=\"black\", alpha=1, linewidth=3))\n",
    "ax.axhline(5, ls='--',c = 'black')\n",
    "ax.set(ylim=(-0.5,10.5))\n",
    "ax.set(xlabel=None)\n",
    "\n",
    "plt.ylabel('NumHDonors', fontsize=14, fontweight='bold')\n",
    "               \n",
    "plt.savefig('plot_NumHDonors.tiff')"
   ]
  },
  {
   "cell_type": "code",
   "execution_count": null,
   "id": "5396d283",
   "metadata": {},
   "outputs": [],
   "source": [
    "mannwhitney('NumHDonors')"
   ]
  },
  {
   "cell_type": "markdown",
   "id": "6ca6b789",
   "metadata": {},
   "source": [
    "NumHAcceptors"
   ]
  },
  {
   "cell_type": "code",
   "execution_count": null,
   "id": "f0ef055d",
   "metadata": {},
   "outputs": [],
   "source": [
    "plt.figure(figsize=(5.5, 5.5))\n",
    "\n",
    "ax = sns.boxplot(x = 'class', y = 'NumHAcceptors', data = df_2class, showmeans = True, meanprops={\"marker\":\"o\",\"markerfacecolor\":\"white\", \n",
    "                       \"markeredgecolor\":\"black\",\"markersize\":\"8\"},\n",
    "                     medianprops=dict(color=\"black\", alpha=1, linewidth=3))\n",
    "ax.axhline(10, ls='--',c = 'black')\n",
    "ax.set(ylim=(0, 20))\n",
    "ax.set(xlabel=None)\n",
    "\n",
    "plt.ylabel('NumHAcceptors', fontsize=14, fontweight='bold')\n",
    "\n",
    "plt.savefig('plot_NumHAcceptors.tiff')"
   ]
  },
  {
   "cell_type": "code",
   "execution_count": null,
   "id": "797db746",
   "metadata": {},
   "outputs": [],
   "source": [
    "mannwhitney('NumHAcceptors')"
   ]
  },
  {
   "cell_type": "code",
   "execution_count": null,
   "id": "7c72c066",
   "metadata": {},
   "outputs": [],
   "source": [
    "!ls"
   ]
  },
  {
   "cell_type": "code",
   "execution_count": null,
   "id": "02cddbb4",
   "metadata": {},
   "outputs": [],
   "source": [
    "filesname=os.listdir()\n",
    "filesname"
   ]
  },
  {
   "cell_type": "code",
   "execution_count": null,
   "id": "ac934987",
   "metadata": {},
   "outputs": [],
   "source": [
    "from zipfile import ZipFile\n",
    "filesname=os.listdir('H:\\\\Shared drives')\n",
    "\n",
    "with ZipFile('output.zip', 'w') as myzip:\n",
    "    for file in filesname:\n",
    "        if file.endswith(\".csv\") and file.endswith(\".tiff\"):\n",
    "            myzip.write(file)"
   ]
  },
  {
   "cell_type": "code",
   "execution_count": null,
   "id": "3e932bf5",
   "metadata": {
    "scrolled": true
   },
   "outputs": [],
   "source": [
    "!zip -r results.zip . -i *.csv *.tiff"
   ]
  },
  {
   "cell_type": "code",
   "execution_count": null,
   "id": "880d87da",
   "metadata": {},
   "outputs": [],
   "source": [
    "# create a ZipFile object\n",
    "zipObj = ZipFile('data_exploratory.zip', 'w')\n",
    "# Add multiple files to the zip\n",
    "zipObj.write('*.csv')\n",
    "# close the Zip File\n",
    "zipObj.close()"
   ]
  }
 ],
 "metadata": {
  "kernelspec": {
   "display_name": "Python 3",
   "language": "python",
   "name": "python3"
  },
  "language_info": {
   "codemirror_mode": {
    "name": "ipython",
    "version": 3
   },
   "file_extension": ".py",
   "mimetype": "text/x-python",
   "name": "python",
   "nbconvert_exporter": "python",
   "pygments_lexer": "ipython3",
   "version": "3.8.5"
  }
 },
 "nbformat": 4,
 "nbformat_minor": 5
}
