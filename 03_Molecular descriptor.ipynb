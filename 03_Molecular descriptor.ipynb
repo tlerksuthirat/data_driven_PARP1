{
 "cells": [
  {
   "cell_type": "code",
   "execution_count": null,
   "id": "4cd2b82b",
   "metadata": {},
   "outputs": [],
   "source": [
    "pip install wget"
   ]
  },
  {
   "cell_type": "code",
   "execution_count": null,
   "id": "26e82ae4",
   "metadata": {
    "scrolled": true
   },
   "outputs": [],
   "source": [
    "import wget\n",
    "import os\n",
    "os.getcwd()\n",
    "from zipfile import ZipFile\n",
    "import pandas as pd"
   ]
  },
  {
   "cell_type": "code",
   "execution_count": null,
   "id": "52ff6bb7",
   "metadata": {
    "scrolled": true
   },
   "outputs": [],
   "source": [
    "wget.download('https://github.com/dataprofessor/bioinformatics/raw/master/padel.zip')\n",
    "wget.download('https://github.com/tlerksuthirat/PaDEL/blob/master/AtomPairs2DFingerprintCount.sh')\n",
    "wget.download('https://github.com/tlerksuthirat/PaDEL/blob/master/AtomPairs2DFingerprinter.sh')\n",
    "wget.download('https://github.com/tlerksuthirat/PaDEL/blob/master/EStateFingerprinter.sh')\n",
    "wget.download('https://github.com/tlerksuthirat/PaDEL/blob/master/ExtendedFingerprinter.sh')\n",
    "wget.download('https://github.com/tlerksuthirat/PaDEL/blob/master/Fingerprinter.sh')\n",
    "wget.download('https://github.com/tlerksuthirat/PaDEL/blob/master/GraphOnlyFingerprinter.sh')\n",
    "wget.download('https://github.com/tlerksuthirat/PaDEL/blob/master/KlekotaRothFingerprintCount.sh')\n",
    "wget.download('https://github.com/tlerksuthirat/PaDEL/blob/master/KlekotaRothFingerprinter.sh')\n",
    "wget.download('https://github.com/tlerksuthirat/PaDEL/blob/master/MACCSFingerprinter.sh')\n",
    "wget.download('https://github.com/tlerksuthirat/PaDEL/blob/master/PubchemFingerprinter.sh')\n",
    "wget.download('https://github.com/tlerksuthirat/PaDEL/blob/master/SubstructureFingerprintCount.sh')\n",
    "wget.download('https://github.com/tlerksuthirat/PaDEL/blob/master/SubstructureFingerprinter.sh')"
   ]
  },
  {
   "cell_type": "code",
   "execution_count": null,
   "id": "5e2e3f77",
   "metadata": {},
   "outputs": [],
   "source": [
    "zipObj = ZipFile(\"padel.zip\", \"r\")\n",
    "zipObj.extractall()\n",
    "zipObj.close()"
   ]
  },
  {
   "cell_type": "code",
   "execution_count": null,
   "id": "030cff6d",
   "metadata": {},
   "outputs": [],
   "source": [
    "df = pd.read_csv('PARP1_05_bioactivity_data_2class_pIC50.csv')\n",
    "df"
   ]
  },
  {
   "cell_type": "code",
   "execution_count": null,
   "id": "1b9a6c2b",
   "metadata": {},
   "outputs": [],
   "source": [
    "selection = ['canonical_smiles','molecule_chembl_id']\n",
    "df_selection = df[selection]\n",
    "df_selection.to_csv('molecule_pos_neg.smi', sep='\\t', index=False, header=False)"
   ]
  },
  {
   "cell_type": "code",
   "execution_count": null,
   "id": "ef635136",
   "metadata": {},
   "outputs": [],
   "source": [
    "df_selection"
   ]
  },
  {
   "cell_type": "code",
   "execution_count": null,
   "id": "3d276eff",
   "metadata": {},
   "outputs": [],
   "source": [
    "!cat molecule_pos_neg.smi | head -5"
   ]
  },
  {
   "cell_type": "code",
   "execution_count": null,
   "id": "1e2060bc",
   "metadata": {},
   "outputs": [],
   "source": [
    "!cat molecule_pos_neg.smi | wc -l"
   ]
  },
  {
   "cell_type": "code",
   "execution_count": null,
   "id": "7a44cc04",
   "metadata": {},
   "outputs": [],
   "source": [
    "!cat AtomPairs2DFingerprintCount.sh\n",
    "!bash AtomPairs2DFingerprintCount.sh"
   ]
  },
  {
   "cell_type": "code",
   "execution_count": null,
   "id": "cd1b76dd",
   "metadata": {},
   "outputs": [],
   "source": [
    "!cat AtomPairs2DFingerprinter.sh\n",
    "!bash AtomPairs2DFingerprinter.sh"
   ]
  },
  {
   "cell_type": "code",
   "execution_count": null,
   "id": "d00db73b",
   "metadata": {},
   "outputs": [],
   "source": [
    "!cat EStateFingerprinter.sh\n",
    "!bash EStateFingerprinter.sh"
   ]
  },
  {
   "cell_type": "code",
   "execution_count": null,
   "id": "dcb5c7b9",
   "metadata": {},
   "outputs": [],
   "source": [
    "!cat ExtendedFingerprinter.sh\n",
    "!bash ExtendedFingerprinter.sh"
   ]
  },
  {
   "cell_type": "code",
   "execution_count": null,
   "id": "346d96b8",
   "metadata": {},
   "outputs": [],
   "source": [
    "!cat Fingerprinter.sh\n",
    "!bash Fingerprinter.sh"
   ]
  },
  {
   "cell_type": "code",
   "execution_count": null,
   "id": "ebaa4d02",
   "metadata": {},
   "outputs": [],
   "source": [
    "!cat GraphOnlyFingerprinter.sh\n",
    "!bash GraphOnlyFingerprinter.sh"
   ]
  },
  {
   "cell_type": "code",
   "execution_count": null,
   "id": "4b4ec424",
   "metadata": {},
   "outputs": [],
   "source": [
    "!cat KlekotaRothFingerprintCount.sh\n",
    "!bash KlekotaRothFingerprintCount.sh"
   ]
  },
  {
   "cell_type": "code",
   "execution_count": null,
   "id": "f440caf1",
   "metadata": {},
   "outputs": [],
   "source": [
    "!cat KlekotaRothFingerprinter.sh\n",
    "!bash KlekotaRothFingerprinter.sh"
   ]
  },
  {
   "cell_type": "code",
   "execution_count": null,
   "id": "0f87ffb2",
   "metadata": {},
   "outputs": [],
   "source": [
    "!cat MACCSFingerprinter.sh\n",
    "!bash MACCSFingerprinter.sh"
   ]
  },
  {
   "cell_type": "code",
   "execution_count": null,
   "id": "b08fdf06",
   "metadata": {},
   "outputs": [],
   "source": [
    "!cat PubchemFingerprinter.sh\n",
    "!bash PubchemFingerprinter.sh"
   ]
  },
  {
   "cell_type": "code",
   "execution_count": null,
   "id": "8c86d3eb",
   "metadata": {},
   "outputs": [],
   "source": [
    "!cat SubstructureFingerprintCount.sh\n",
    "!bash SubstructureFingerprintCount.sh"
   ]
  },
  {
   "cell_type": "code",
   "execution_count": null,
   "id": "94392ac9",
   "metadata": {},
   "outputs": [],
   "source": [
    "!cat SubstructureFingerprinter.sh\n",
    "!bash SubstructureFingerprinter.sh"
   ]
  },
  {
   "cell_type": "code",
   "execution_count": null,
   "id": "7a23103c",
   "metadata": {},
   "outputs": [],
   "source": [
    "df_x_AFC = pd.read_csv('descriptors_output_AtomPairs2DFingerprintCount.csv')\n",
    "df_x_AF = pd.read_csv('descriptors_output_AtomPairs2DFingerprinter.csv')\n",
    "df_x_ESF = pd.read_csv('descriptors_output_EStateFingerprinter.csv')\n",
    "df_x_EXF = pd.read_csv('descriptors_output_ExtendedFingerprinter.csv')\n",
    "df_x_F = pd.read_csv('descriptors_output_Fingerprinter.csv')\n",
    "df_x_GF = pd.read_csv('descriptors_output_GraphOnlyFingerprinter.csv')\n",
    "df_x_KRFC = pd.read_csv('descriptors_output_KlekotaRothFingerprintCount.csv')\n",
    "df_x_KRF = pd.read_csv('descriptors_output_KlekotaRothFingerprinter.csv')\n",
    "df_x_MF = pd.read_csv('descriptors_output_MACCSFingerprinter.csv')\n",
    "df_x_PF = pd.read_csv('descriptors_output_PubchemFingerprinter.csv')\n",
    "df_x_SFC = pd.read_csv('descriptors_output_SubstructureFingerprintCount.csv')\n",
    "df_x_SF = pd.read_csv('descriptors_output_SubstructureFingerprinter.csv')"
   ]
  },
  {
   "cell_type": "code",
   "execution_count": null,
   "id": "d70cea9e",
   "metadata": {},
   "outputs": [],
   "source": [
    "df_x_AFC = df_x_AFC.drop(columns=['Name'])\n",
    "df_x_AF = df_x_AF.drop(columns=['Name'])\n",
    "df_x_ESF = df_x_ESF.drop(columns=['Name'])\n",
    "df_x_EXF = df_x_EXF.drop(columns=['Name'])\n",
    "df_x_F = df_x_F.drop(columns=['Name'])\n",
    "df_x_GF = df_x_GF.drop(columns=['Name'])\n",
    "df_x_KRFC = df_x_KRFC.drop(columns=['Name'])\n",
    "df_x_KRF  = df_x_KRF.drop(columns=['Name'])\n",
    "df_x_MF = df_x_MF.drop(columns=['Name'])\n",
    "df_x_PF = df_x_PF.drop(columns=['Name'])\n",
    "df_x_SFC = df_x_SFC.drop(columns=['Name'])\n",
    "df_x_SF = df_x_SF.drop(columns=['Name'])"
   ]
  },
  {
   "cell_type": "code",
   "execution_count": null,
   "id": "f8d76451",
   "metadata": {},
   "outputs": [],
   "source": [
    "df_y_AFC = df['class']\n",
    "df_y_AF = df['class']\n",
    "df_y_ESF = df['class']\n",
    "df_y_EXF = df['class']\n",
    "df_y_F = df['class']\n",
    "df_y_GF = df['class']\n",
    "df_y_KRFC = df['class']\n",
    "df_y_KRF  = df['class']\n",
    "df_y_MF = df['class']\n",
    "df_y_PF = df['class']\n",
    "df_y_SFC = df['class']\n",
    "df_y_SF = df['class']"
   ]
  },
  {
   "cell_type": "code",
   "execution_count": null,
   "id": "fa71b215",
   "metadata": {},
   "outputs": [],
   "source": [
    "dataset_AFC = pd.concat([df_x_AFC,df_y_AFC], axis=1)\n",
    "dataset_AF = pd.concat([df_x_AF,df_y_AF], axis=1)\n",
    "dataset_ESF = pd.concat([df_x_ESF,df_y_ESF], axis=1)\n",
    "dataset_EXF = pd.concat([df_x_EXF,df_y_EXF], axis=1)\n",
    "dataset_F = pd.concat([df_x_F,df_y_F], axis=1)\n",
    "dataset_GF = pd.concat([df_x_GF,df_y_GF], axis=1)\n",
    "dataset_KRFC = pd.concat([df_x_KRFC,df_y_KRFC], axis=1)\n",
    "dataset_KRF  = pd.concat([df_x_KRF,df_y_KRF], axis=1)\n",
    "dataset_MF = pd.concat([df_x_MF,df_y_MF], axis=1)\n",
    "dataset_PF = pd.concat([df_x_PF,df_y_PF], axis=1)\n",
    "dataset_SFC = pd.concat([df_x_SFC,df_y_SFC], axis=1)\n",
    "dataset_SF = pd.concat([df_x_SF,df_y_SF], axis=1)"
   ]
  },
  {
   "cell_type": "code",
   "execution_count": null,
   "id": "5d29f021",
   "metadata": {},
   "outputs": [],
   "source": [
    "dataset_AFC.to_csv('PARP1_06_bioactivity_data_2class_IC50_AFC.csv', index=False)\n",
    "dataset_AF.to_csv('PARP1_06_bioactivity_data_2class_IC50_AF.csv', index=False)\n",
    "dataset_ESF.to_csv('PARP1_06_bioactivity_data_2class_IC50_ESF.csv', index=False)\n",
    "dataset_EXF.to_csv('PARP1_06_bioactivity_data_2class_IC50_EXF.csv', index=False)\n",
    "dataset_F.to_csv('PARP1_06_bioactivity_data_2class_IC50_F.csv', index=False)\n",
    "dataset_GF.to_csv('PARP1_06_bioactivity_data_2class_IC50_GF.csv', index=False)\n",
    "dataset_KRFC.to_csv('PARP1_06_bioactivity_data_2class_IC50_KRFC.csv', index=False)\n",
    "dataset_KRF.to_csv('PARP1_06_bioactivity_data_2class_IC50_KRF.csv', index=False)\n",
    "dataset_MF.to_csv('PARP1_06_bioactivity_data_2class_IC50_MF.csv', index=False)\n",
    "dataset_PF.to_csv('PARP1_06_bioactivity_data_2class_IC50_PF.csv', index=False)\n",
    "dataset_SFC.to_csv('PARP1_06_bioactivity_data_2class_IC50_SFC.csv', index=False)\n",
    "dataset_SF.to_csv('PARP1_06_bioactivity_data_2class_IC50_SF.csv', index=False)"
   ]
  }
 ],
 "metadata": {
  "kernelspec": {
   "display_name": "Python 3",
   "language": "python",
   "name": "python3"
  },
  "language_info": {
   "codemirror_mode": {
    "name": "ipython",
    "version": 3
   },
   "file_extension": ".py",
   "mimetype": "text/x-python",
   "name": "python",
   "nbconvert_exporter": "python",
   "pygments_lexer": "ipython3",
   "version": "3.8.5"
  }
 },
 "nbformat": 4,
 "nbformat_minor": 5
}
