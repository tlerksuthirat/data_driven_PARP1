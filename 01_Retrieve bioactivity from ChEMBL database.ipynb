{
 "cells": [
  {
   "cell_type": "code",
   "execution_count": null,
   "id": "874ff1df",
   "metadata": {},
   "outputs": [],
   "source": [
    "pip install chembl_webresource_client"
   ]
  },
  {
   "cell_type": "code",
   "execution_count": null,
   "id": "82a7bd2c",
   "metadata": {},
   "outputs": [],
   "source": [
    "import pandas as pd\n",
    "from chembl_webresource_client.new_client import new_client\n",
    "import os\n",
    "import numpy as np"
   ]
  },
  {
   "cell_type": "code",
   "execution_count": null,
   "id": "53495b45",
   "metadata": {},
   "outputs": [],
   "source": [
    "target = new_client.target\n",
    "target_query = target.search('PARP1')\n",
    "targets = pd.DataFrame.from_dict(target_query)\n",
    "targets"
   ]
  },
  {
   "cell_type": "code",
   "execution_count": null,
   "id": "197933a6",
   "metadata": {},
   "outputs": [],
   "source": [
    "selected_target = targets.target_chembl_id[0]\n",
    "selected_target"
   ]
  },
  {
   "cell_type": "code",
   "execution_count": null,
   "id": "4c988526",
   "metadata": {},
   "outputs": [],
   "source": [
    "ac = new_client.activity\n",
    "raw = ac.filter(target_chembl_id=selected_target)\n",
    "df0 = pd.DataFrame.from_dict(raw)\n",
    "df0"
   ]
  },
  {
   "cell_type": "code",
   "execution_count": null,
   "id": "63ed4bc4",
   "metadata": {},
   "outputs": [],
   "source": [
    "df0.to_csv('PARP1_00_bioactivity_data_raw.csv', index=False)"
   ]
  },
  {
   "cell_type": "code",
   "execution_count": null,
   "id": "fce7bc59",
   "metadata": {},
   "outputs": [],
   "source": [
    "res_IC50 = ac.filter(target_chembl_id=selected_target).filter(standard_type=\"IC50\")"
   ]
  },
  {
   "cell_type": "code",
   "execution_count": null,
   "id": "ea2823f3",
   "metadata": {},
   "outputs": [],
   "source": [
    "df_IC50 = pd.DataFrame.from_dict(res_IC50)"
   ]
  },
  {
   "cell_type": "code",
   "execution_count": null,
   "id": "25caa219",
   "metadata": {},
   "outputs": [],
   "source": [
    "df_IC50.to_csv('PARP1_01_bioactivity_IC50_data_raw.csv', index=False)"
   ]
  },
  {
   "cell_type": "code",
   "execution_count": null,
   "id": "0dcd3804",
   "metadata": {},
   "outputs": [],
   "source": [
    "#Remove missing data\n",
    "df2_IC50 = df_IC50[df_IC50.standard_value.notna()]\n",
    "df2_IC50 = df2_IC50[df_IC50.canonical_smiles.notna()]"
   ]
  },
  {
   "cell_type": "code",
   "execution_count": null,
   "id": "294b8faa",
   "metadata": {},
   "outputs": [],
   "source": [
    "#Remove duplicate data in canonical_smiles column\n",
    "df2_nr_IC50 = df2_IC50.drop_duplicates(['canonical_smiles'])"
   ]
  },
  {
   "cell_type": "code",
   "execution_count": null,
   "id": "0f3f0865",
   "metadata": {},
   "outputs": [],
   "source": [
    "#Selecting 3 column for further analysis\n",
    "selection = ['molecule_chembl_id','canonical_smiles','standard_value']\n",
    "df3_IC50 = df2_nr_IC50[selection]"
   ]
  },
  {
   "cell_type": "code",
   "execution_count": null,
   "id": "f4a3664d",
   "metadata": {},
   "outputs": [],
   "source": [
    "df3_IC50.to_csv('PARP1_02_bioactivity_IC50_data_preprocessed.csv', index=False)"
   ]
  },
  {
   "cell_type": "code",
   "execution_count": null,
   "id": "67737402",
   "metadata": {},
   "outputs": [],
   "source": [
    "df4_IC50 = pd.read_csv('PARP1_02_bioactivity_IC50_data_preprocessed.csv')"
   ]
  },
  {
   "cell_type": "code",
   "execution_count": null,
   "id": "8682eb1d",
   "metadata": {},
   "outputs": [],
   "source": [
    "bioactivity_threshold = []\n",
    "for i in df4_IC50.standard_value:\n",
    "  if float(i) >= 10000:\n",
    "    bioactivity_threshold.append(\"inactive\")\n",
    "  elif float(i) <= 1000:\n",
    "    bioactivity_threshold.append(\"active\")\n",
    "  else:\n",
    "    bioactivity_threshold.append(\"intermediate\")\n",
    "    \n",
    "bioactivity_class = pd.Series(bioactivity_threshold, name='class')\n",
    "df5_IC50 = pd.concat([df4_IC50, bioactivity_class], axis=1)"
   ]
  },
  {
   "cell_type": "code",
   "execution_count": null,
   "id": "24dacda4",
   "metadata": {},
   "outputs": [],
   "source": [
    "df5_IC50.to_csv('PARP1_03_bioactivity_IC50_data_curated.csv', index=False)"
   ]
  }
 ],
 "metadata": {
  "kernelspec": {
   "display_name": "Python 3",
   "language": "python",
   "name": "python3"
  },
  "language_info": {
   "codemirror_mode": {
    "name": "ipython",
    "version": 3
   },
   "file_extension": ".py",
   "mimetype": "text/x-python",
   "name": "python",
   "nbconvert_exporter": "python",
   "pygments_lexer": "ipython3",
   "version": "3.8.5"
  }
 },
 "nbformat": 4,
 "nbformat_minor": 5
}
